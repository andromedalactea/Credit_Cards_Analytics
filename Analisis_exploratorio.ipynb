{
 "cells": [
  {
   "cell_type": "code",
   "execution_count": 2,
   "metadata": {},
   "outputs": [
    {
     "name": "stdout",
     "output_type": "stream",
     "text": [
      "Requirement already satisfied: pandas in c:\\users\\bry36\\onedrive\\escritorio\\my_data_proyect\\job\\clustering_and_insights_for_credit_cards\\entorno_de_analisis\\lib\\site-packages (2.0.1)\n",
      "Requirement already satisfied: python-dateutil>=2.8.2 in c:\\users\\bry36\\onedrive\\escritorio\\my_data_proyect\\job\\clustering_and_insights_for_credit_cards\\entorno_de_analisis\\lib\\site-packages (from pandas) (2.8.2)\n",
      "Requirement already satisfied: numpy>=1.21.0 in c:\\users\\bry36\\onedrive\\escritorio\\my_data_proyect\\job\\clustering_and_insights_for_credit_cards\\entorno_de_analisis\\lib\\site-packages (from pandas) (1.24.3)\n",
      "Requirement already satisfied: tzdata>=2022.1 in c:\\users\\bry36\\onedrive\\escritorio\\my_data_proyect\\job\\clustering_and_insights_for_credit_cards\\entorno_de_analisis\\lib\\site-packages (from pandas) (2023.3)\n",
      "Requirement already satisfied: pytz>=2020.1 in c:\\users\\bry36\\onedrive\\escritorio\\my_data_proyect\\job\\clustering_and_insights_for_credit_cards\\entorno_de_analisis\\lib\\site-packages (from pandas) (2023.3)\n",
      "Requirement already satisfied: six>=1.5 in c:\\users\\bry36\\onedrive\\escritorio\\my_data_proyect\\job\\clustering_and_insights_for_credit_cards\\entorno_de_analisis\\lib\\site-packages (from python-dateutil>=2.8.2->pandas) (1.16.0)\n",
      "Note: you may need to restart the kernel to use updated packages.\n"
     ]
    },
    {
     "name": "stderr",
     "output_type": "stream",
     "text": [
      "\n",
      "[notice] A new release of pip is available: 23.0.1 -> 23.1.2\n",
      "[notice] To update, run: python.exe -m pip install --upgrade pip\n"
     ]
    }
   ],
   "source": [
    "%pip install pandas\n"
   ]
  },
  {
   "cell_type": "code",
   "execution_count": 3,
   "metadata": {},
   "outputs": [
    {
     "name": "stdout",
     "output_type": "stream",
     "text": [
      "Requirement already satisfied: numpy in c:\\users\\bry36\\onedrive\\escritorio\\my_data_proyect\\job\\clustering_and_insights_for_credit_cards\\entorno_de_analisis\\lib\\site-packages (1.24.3)\n",
      "Note: you may need to restart the kernel to use updated packages.\n"
     ]
    },
    {
     "name": "stderr",
     "output_type": "stream",
     "text": [
      "\n",
      "[notice] A new release of pip is available: 23.0.1 -> 23.1.2\n",
      "[notice] To update, run: python.exe -m pip install --upgrade pip\n"
     ]
    }
   ],
   "source": [
    "%pip install numpy"
   ]
  },
  {
   "cell_type": "code",
   "execution_count": 4,
   "metadata": {},
   "outputs": [
    {
     "name": "stdout",
     "output_type": "stream",
     "text": [
      "Collecting matplotlib\n",
      "  Using cached matplotlib-3.7.1-cp310-cp310-win_amd64.whl (7.6 MB)\n",
      "Collecting cycler>=0.10\n",
      "  Using cached cycler-0.11.0-py3-none-any.whl (6.4 kB)\n",
      "Collecting contourpy>=1.0.1\n",
      "  Using cached contourpy-1.0.7-cp310-cp310-win_amd64.whl (162 kB)\n",
      "Collecting kiwisolver>=1.0.1\n",
      "  Using cached kiwisolver-1.4.4-cp310-cp310-win_amd64.whl (55 kB)\n",
      "Collecting pillow>=6.2.0\n",
      "  Using cached Pillow-9.5.0-cp310-cp310-win_amd64.whl (2.5 MB)\n",
      "Requirement already satisfied: packaging>=20.0 in c:\\users\\bry36\\onedrive\\escritorio\\my_data_proyect\\job\\clustering_and_insights_for_credit_cards\\entorno_de_analisis\\lib\\site-packages (from matplotlib) (23.1)\n",
      "Collecting fonttools>=4.22.0\n",
      "  Using cached fonttools-4.39.4-py3-none-any.whl (1.0 MB)\n",
      "Requirement already satisfied: python-dateutil>=2.7 in c:\\users\\bry36\\onedrive\\escritorio\\my_data_proyect\\job\\clustering_and_insights_for_credit_cards\\entorno_de_analisis\\lib\\site-packages (from matplotlib) (2.8.2)\n",
      "Collecting pyparsing>=2.3.1\n",
      "  Using cached pyparsing-3.0.9-py3-none-any.whl (98 kB)\n",
      "Requirement already satisfied: numpy>=1.20 in c:\\users\\bry36\\onedrive\\escritorio\\my_data_proyect\\job\\clustering_and_insights_for_credit_cards\\entorno_de_analisis\\lib\\site-packages (from matplotlib) (1.24.3)\n",
      "Requirement already satisfied: six>=1.5 in c:\\users\\bry36\\onedrive\\escritorio\\my_data_proyect\\job\\clustering_and_insights_for_credit_cards\\entorno_de_analisis\\lib\\site-packages (from python-dateutil>=2.7->matplotlib) (1.16.0)\n",
      "Installing collected packages: pyparsing, pillow, kiwisolver, fonttools, cycler, contourpy, matplotlib\n",
      "Successfully installed contourpy-1.0.7 cycler-0.11.0 fonttools-4.39.4 kiwisolver-1.4.4 matplotlib-3.7.1 pillow-9.5.0 pyparsing-3.0.9\n",
      "Note: you may need to restart the kernel to use updated packages.\n"
     ]
    },
    {
     "name": "stderr",
     "output_type": "stream",
     "text": [
      "\n",
      "[notice] A new release of pip is available: 23.0.1 -> 23.1.2\n",
      "[notice] To update, run: python.exe -m pip install --upgrade pip\n"
     ]
    },
    {
     "name": "stdout",
     "output_type": "stream",
     "text": [
      "Collecting seaborn\n",
      "  Using cached seaborn-0.12.2-py3-none-any.whl (293 kB)\n",
      "Requirement already satisfied: matplotlib!=3.6.1,>=3.1 in c:\\users\\bry36\\onedrive\\escritorio\\my_data_proyect\\job\\clustering_and_insights_for_credit_cards\\entorno_de_analisis\\lib\\site-packages (from seaborn) (3.7.1)\n",
      "Requirement already satisfied: numpy!=1.24.0,>=1.17 in c:\\users\\bry36\\onedrive\\escritorio\\my_data_proyect\\job\\clustering_and_insights_for_credit_cards\\entorno_de_analisis\\lib\\site-packages (from seaborn) (1.24.3)\n",
      "Requirement already satisfied: pandas>=0.25 in c:\\users\\bry36\\onedrive\\escritorio\\my_data_proyect\\job\\clustering_and_insights_for_credit_cards\\entorno_de_analisis\\lib\\site-packages (from seaborn) (2.0.1)\n",
      "Requirement already satisfied: contourpy>=1.0.1 in c:\\users\\bry36\\onedrive\\escritorio\\my_data_proyect\\job\\clustering_and_insights_for_credit_cards\\entorno_de_analisis\\lib\\site-packages (from matplotlib!=3.6.1,>=3.1->seaborn) (1.0.7)\n",
      "Requirement already satisfied: cycler>=0.10 in c:\\users\\bry36\\onedrive\\escritorio\\my_data_proyect\\job\\clustering_and_insights_for_credit_cards\\entorno_de_analisis\\lib\\site-packages (from matplotlib!=3.6.1,>=3.1->seaborn) (0.11.0)\n",
      "Requirement already satisfied: kiwisolver>=1.0.1 in c:\\users\\bry36\\onedrive\\escritorio\\my_data_proyect\\job\\clustering_and_insights_for_credit_cards\\entorno_de_analisis\\lib\\site-packages (from matplotlib!=3.6.1,>=3.1->seaborn) (1.4.4)\n",
      "Requirement already satisfied: fonttools>=4.22.0 in c:\\users\\bry36\\onedrive\\escritorio\\my_data_proyect\\job\\clustering_and_insights_for_credit_cards\\entorno_de_analisis\\lib\\site-packages (from matplotlib!=3.6.1,>=3.1->seaborn) (4.39.4)\n",
      "Requirement already satisfied: packaging>=20.0 in c:\\users\\bry36\\onedrive\\escritorio\\my_data_proyect\\job\\clustering_and_insights_for_credit_cards\\entorno_de_analisis\\lib\\site-packages (from matplotlib!=3.6.1,>=3.1->seaborn) (23.1)\n",
      "Requirement already satisfied: python-dateutil>=2.7 in c:\\users\\bry36\\onedrive\\escritorio\\my_data_proyect\\job\\clustering_and_insights_for_credit_cards\\entorno_de_analisis\\lib\\site-packages (from matplotlib!=3.6.1,>=3.1->seaborn) (2.8.2)\n",
      "Requirement already satisfied: pillow>=6.2.0 in c:\\users\\bry36\\onedrive\\escritorio\\my_data_proyect\\job\\clustering_and_insights_for_credit_cards\\entorno_de_analisis\\lib\\site-packages (from matplotlib!=3.6.1,>=3.1->seaborn) (9.5.0)\n",
      "Requirement already satisfied: pyparsing>=2.3.1 in c:\\users\\bry36\\onedrive\\escritorio\\my_data_proyect\\job\\clustering_and_insights_for_credit_cards\\entorno_de_analisis\\lib\\site-packages (from matplotlib!=3.6.1,>=3.1->seaborn) (3.0.9)\n",
      "Requirement already satisfied: pytz>=2020.1 in c:\\users\\bry36\\onedrive\\escritorio\\my_data_proyect\\job\\clustering_and_insights_for_credit_cards\\entorno_de_analisis\\lib\\site-packages (from pandas>=0.25->seaborn) (2023.3)\n",
      "Requirement already satisfied: tzdata>=2022.1 in c:\\users\\bry36\\onedrive\\escritorio\\my_data_proyect\\job\\clustering_and_insights_for_credit_cards\\entorno_de_analisis\\lib\\site-packages (from pandas>=0.25->seaborn) (2023.3)\n",
      "Requirement already satisfied: six>=1.5 in c:\\users\\bry36\\onedrive\\escritorio\\my_data_proyect\\job\\clustering_and_insights_for_credit_cards\\entorno_de_analisis\\lib\\site-packages (from python-dateutil>=2.7->matplotlib!=3.6.1,>=3.1->seaborn) (1.16.0)\n",
      "Installing collected packages: seaborn\n",
      "Successfully installed seaborn-0.12.2\n",
      "Note: you may need to restart the kernel to use updated packages.\n"
     ]
    },
    {
     "name": "stderr",
     "output_type": "stream",
     "text": [
      "\n",
      "[notice] A new release of pip is available: 23.0.1 -> 23.1.2\n",
      "[notice] To update, run: python.exe -m pip install --upgrade pip\n"
     ]
    }
   ],
   "source": [
    "%pip install matplotlib\n",
    "%pip install seaborn\n",
    "\n"
   ]
  }
 ],
 "metadata": {
  "kernelspec": {
   "display_name": "Entorno_de_analisis",
   "language": "python",
   "name": "python3"
  },
  "language_info": {
   "codemirror_mode": {
    "name": "ipython",
    "version": 3
   },
   "file_extension": ".py",
   "mimetype": "text/x-python",
   "name": "python",
   "nbconvert_exporter": "python",
   "pygments_lexer": "ipython3",
   "version": "3.10.11"
  },
  "orig_nbformat": 4
 },
 "nbformat": 4,
 "nbformat_minor": 2
}
